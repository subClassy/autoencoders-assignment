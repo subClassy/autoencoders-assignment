{
 "cells": [
  {
   "cell_type": "markdown",
   "metadata": {
    "id": "35Tv2peftFL7"
   },
   "source": [
    "This notebook uses [PyTorch](https://pytorch.org/), which is a library that can automatically differentiate functions and is commonly used to implement neural networks. Because of its capability to automatically differentiate functions, the formula for the gradient does not need to be manually derived -- this comes especially handy when working with neural networks, whose gradient formula can be quite complicated, especially for complex architectures. "
   ]
  },
  {
   "cell_type": "markdown",
   "metadata": {
    "id": "inyJ_O0zvGjG"
   },
   "source": [
    "We recommend going over the [PyTorch tutorial](https://pytorch.org/tutorials/beginner/basics/intro.html) and then the starter code below. For any new functions that you come across, you can look up the documentation [here](https://pytorch.org/docs/stable/index.html). "
   ]
  },
  {
   "cell_type": "markdown",
   "metadata": {
    "id": "yIzZYEqUwQKw"
   },
   "source": [
    "We recommend running this notebook on Google Colab to avoid having to install PyTorch and to take advantage of GPUs, which make training faster."
   ]
  },
  {
   "cell_type": "markdown",
   "metadata": {
    "id": "pyJgJ5DNERo5"
   },
   "source": [
    "## Load packages"
   ]
  },
  {
   "cell_type": "code",
   "execution_count": 4,
   "metadata": {
    "ExecuteTime": {
     "end_time": "2021-03-11T21:12:35.634207Z",
     "start_time": "2021-03-11T21:12:34.239216Z"
    },
    "id": "mQ0w94zPtMvw"
   },
   "outputs": [],
   "source": [
    "# load packages\n",
    "# make sure to install the pacakge \"tqdm\" for the progress bar when training.\n",
    "import torch\n",
    "import torchvision\n",
    "import torchvision.transforms as transforms\n",
    "import torch.nn as nn\n",
    "import torch.nn.functional as F\n",
    "from torch.autograd import Variable\n",
    "from torchvision.utils import save_image\n",
    "from tqdm import tqdm\n",
    "import numpy as np\n",
    "import matplotlib.pyplot as plt\n",
    "import imageio\n",
    "import matplotlib.image as mpimg\n",
    "from scipy import ndimage\n",
    "\n",
    "path_prefix = \"\""
   ]
  },
  {
   "cell_type": "markdown",
   "metadata": {
    "id": "E9NjnIpIa5nz"
   },
   "source": [
    "If running on Google Colab, you need to upload the file `autoencoder_starter.py`. To do so, you need to click on the folder icon on the left side of the page, which brings up a panel that would allow you to upload files. Note however uploading the file this way has a downside in that if your Python runtime times out or is otherwise restarted, the file will be erased and you will need to re-upload. \n",
    "\n",
    "If you would like to avoid this, you can create a directory named `CMPT_726Fall2021_A3` in your Google Drive and upload `autoencoder_starter.py` to that directory. Then execute the following block of code to mount your Google Drive. "
   ]
  },
  {
   "cell_type": "markdown",
   "metadata": {
    "id": "SM0qdo6PEW1d"
   },
   "source": [
    "## Define your architecture here.\n",
    "\n",
    "The `Autoencoder` class has several important functions unimplemented. You are required to implement the two sub-classes of `Encoder` and `Decoder`, i.e, the architecture and forward function of the encoder and decoder.\n"
   ]
  },
  {
   "cell_type": "code",
   "execution_count": 5,
   "metadata": {
    "ExecuteTime": {
     "end_time": "2021-03-11T21:12:35.656496Z",
     "start_time": "2021-03-11T21:12:35.637352Z"
    },
    "id": "23IwboWcDwBA"
   },
   "outputs": [],
   "source": [
    "class Autoencoder(nn.Module):\n",
    "\n",
    "    def __init__(self,dim_latent_representation=2):\n",
    "\n",
    "        super(Autoencoder,self).__init__()\n",
    "\n",
    "        class Encoder(nn.Module):\n",
    "            def __init__(self, output_size=2):\n",
    "                super(Encoder, self).__init__()\n",
    "                self.dense = nn.Linear(28*28, output_size, bias=True)\n",
    "\n",
    "            def forward(self, x):\n",
    "                out = self.dense(x)\n",
    "\n",
    "                return out\n",
    "\n",
    "        class Decoder(nn.Module):\n",
    "            def __init__(self, input_size=2):\n",
    "                super(Decoder, self).__init__()\n",
    "                self.dense = nn.Linear(input_size, 28*28, bias=True)\n",
    "                self.activation = nn.Tanh()\n",
    "\n",
    "            def forward(self, z):\n",
    "                out = self.dense(z)\n",
    "                out = self.activation(out)\n",
    "                return out\n",
    "\n",
    "        self.encoder = Encoder(output_size=dim_latent_representation)\n",
    "        self.decoder = Decoder(input_size=dim_latent_representation)\n",
    "\n",
    "    # Implement this function for the DAE model\n",
    "    def add_noise(self, x, noise_type):\n",
    "        if noise_type=='Gaussian':\n",
    "            mu = 0.0\n",
    "            std = 0.05 * torch.std(x)\n",
    "            noise = torch.normal(mu, std, size = x.shape).cuda()\n",
    "            x_noisy = x + noise\n",
    "            \n",
    "            return x_noisy\n",
    "\n",
    "        elif noise_type=='Dropout':\n",
    "            indices = np.random.choice(np.arange(x.size), replace=False, size=int(x.size * 0.05))\n",
    "            x[indices] = 0\n",
    "\n",
    "            return x\n",
    "\n",
    "    # Implement this function for the VAE model\n",
    "    # def reparameterise(self, mu, logvar):\n",
    "    #     if self.training:\n",
    "    #         # return reparametrized mu\n",
    "    #     else:\n",
    "    #         return mu\n",
    "\n",
    "    def forward(self,x):\n",
    "        # This function should be modified for the DAE and VAE\n",
    "        x = self.add_noise(x, 'Gaussian')\n",
    "        x = self.encoder(x)\n",
    "        x = self.decoder(x)\n",
    "        # for the VAE forward function should also return mu and logvar\n",
    "        return x"
   ]
  },
  {
   "cell_type": "markdown",
   "metadata": {
    "id": "kfMcq9AHEabL"
   },
   "source": [
    "## Training the Model\n",
    "\n",
    "The training loop is provided by the `Autoencoder_Trainer` class from `autoencoder_starter.py`."
   ]
  },
  {
   "cell_type": "code",
   "execution_count": 6,
   "metadata": {
    "ExecuteTime": {
     "end_time": "2021-03-11T21:12:46.685307Z",
     "start_time": "2021-03-11T21:12:35.661256Z"
    },
    "id": "SqcNfjOTDz2j"
   },
   "outputs": [
    {
     "name": "stderr",
     "output_type": "stream",
     "text": [
      "100%|██████████| 1875/1875 [00:10<00:00, 185.55it/s]\n"
     ]
    },
    {
     "name": "stdout",
     "output_type": "stream",
     "text": [
      "====> Epoch: 1 Average loss: 0.6181\n"
     ]
    },
    {
     "name": "stderr",
     "output_type": "stream",
     "text": [
      "100%|██████████| 313/313 [00:04<00:00, 69.70it/s] \n"
     ]
    },
    {
     "name": "stdout",
     "output_type": "stream",
     "text": [
      "====> Val set loss (reconstruction error) : 0.5470\n"
     ]
    },
    {
     "name": "stderr",
     "output_type": "stream",
     "text": [
      "100%|██████████| 1875/1875 [00:08<00:00, 218.62it/s]\n"
     ]
    },
    {
     "name": "stdout",
     "output_type": "stream",
     "text": [
      "====> Epoch: 2 Average loss: 0.5338\n"
     ]
    },
    {
     "name": "stderr",
     "output_type": "stream",
     "text": [
      "100%|██████████| 313/313 [00:03<00:00, 81.85it/s] \n"
     ]
    },
    {
     "name": "stdout",
     "output_type": "stream",
     "text": [
      "====> Val set loss (reconstruction error) : 0.5224\n"
     ]
    },
    {
     "name": "stderr",
     "output_type": "stream",
     "text": [
      "100%|██████████| 1875/1875 [00:08<00:00, 215.21it/s]\n"
     ]
    },
    {
     "name": "stdout",
     "output_type": "stream",
     "text": [
      "====> Epoch: 3 Average loss: 0.5173\n"
     ]
    },
    {
     "name": "stderr",
     "output_type": "stream",
     "text": [
      "100%|██████████| 313/313 [00:04<00:00, 71.14it/s] \n"
     ]
    },
    {
     "name": "stdout",
     "output_type": "stream",
     "text": [
      "====> Val set loss (reconstruction error) : 0.5117\n"
     ]
    },
    {
     "name": "stderr",
     "output_type": "stream",
     "text": [
      "100%|██████████| 1875/1875 [00:08<00:00, 216.35it/s]\n"
     ]
    },
    {
     "name": "stdout",
     "output_type": "stream",
     "text": [
      "====> Epoch: 4 Average loss: 0.5094\n"
     ]
    },
    {
     "name": "stderr",
     "output_type": "stream",
     "text": [
      "100%|██████████| 313/313 [00:04<00:00, 67.19it/s] \n"
     ]
    },
    {
     "name": "stdout",
     "output_type": "stream",
     "text": [
      "====> Val set loss (reconstruction error) : 0.5062\n"
     ]
    },
    {
     "name": "stderr",
     "output_type": "stream",
     "text": [
      "100%|██████████| 1875/1875 [00:08<00:00, 233.64it/s]\n"
     ]
    },
    {
     "name": "stdout",
     "output_type": "stream",
     "text": [
      "====> Epoch: 5 Average loss: 0.5052\n"
     ]
    },
    {
     "name": "stderr",
     "output_type": "stream",
     "text": [
      "100%|██████████| 313/313 [00:04<00:00, 65.78it/s] \n"
     ]
    },
    {
     "name": "stdout",
     "output_type": "stream",
     "text": [
      "====> Val set loss (reconstruction error) : 0.5033\n"
     ]
    },
    {
     "name": "stderr",
     "output_type": "stream",
     "text": [
      "100%|██████████| 1875/1875 [00:08<00:00, 227.35it/s]\n"
     ]
    },
    {
     "name": "stdout",
     "output_type": "stream",
     "text": [
      "====> Epoch: 6 Average loss: 0.5033\n"
     ]
    },
    {
     "name": "stderr",
     "output_type": "stream",
     "text": [
      "100%|██████████| 313/313 [00:04<00:00, 70.96it/s] \n"
     ]
    },
    {
     "name": "stdout",
     "output_type": "stream",
     "text": [
      "====> Val set loss (reconstruction error) : 0.5021\n"
     ]
    },
    {
     "name": "stderr",
     "output_type": "stream",
     "text": [
      "100%|██████████| 1875/1875 [00:07<00:00, 235.55it/s]\n"
     ]
    },
    {
     "name": "stdout",
     "output_type": "stream",
     "text": [
      "====> Epoch: 7 Average loss: 0.5025\n"
     ]
    },
    {
     "name": "stderr",
     "output_type": "stream",
     "text": [
      "100%|██████████| 313/313 [00:04<00:00, 77.31it/s] \n"
     ]
    },
    {
     "name": "stdout",
     "output_type": "stream",
     "text": [
      "====> Val set loss (reconstruction error) : 0.5016\n"
     ]
    },
    {
     "name": "stderr",
     "output_type": "stream",
     "text": [
      "100%|██████████| 1875/1875 [00:07<00:00, 234.53it/s]\n"
     ]
    },
    {
     "name": "stdout",
     "output_type": "stream",
     "text": [
      "====> Epoch: 8 Average loss: 0.5021\n"
     ]
    },
    {
     "name": "stderr",
     "output_type": "stream",
     "text": [
      "100%|██████████| 313/313 [00:04<00:00, 76.01it/s] \n"
     ]
    },
    {
     "name": "stdout",
     "output_type": "stream",
     "text": [
      "====> Val set loss (reconstruction error) : 0.5013\n"
     ]
    },
    {
     "name": "stderr",
     "output_type": "stream",
     "text": [
      "100%|██████████| 1875/1875 [00:08<00:00, 233.02it/s]\n"
     ]
    },
    {
     "name": "stdout",
     "output_type": "stream",
     "text": [
      "====> Epoch: 9 Average loss: 0.5020\n"
     ]
    },
    {
     "name": "stderr",
     "output_type": "stream",
     "text": [
      "100%|██████████| 313/313 [00:04<00:00, 72.30it/s] \n"
     ]
    },
    {
     "name": "stdout",
     "output_type": "stream",
     "text": [
      "====> Val set loss (reconstruction error) : 0.5012\n"
     ]
    },
    {
     "name": "stderr",
     "output_type": "stream",
     "text": [
      "100%|██████████| 1875/1875 [00:08<00:00, 223.64it/s]\n"
     ]
    },
    {
     "name": "stdout",
     "output_type": "stream",
     "text": [
      "====> Epoch: 10 Average loss: 0.5018\n"
     ]
    },
    {
     "name": "stderr",
     "output_type": "stream",
     "text": [
      "100%|██████████| 313/313 [00:04<00:00, 75.41it/s] \n"
     ]
    },
    {
     "name": "stdout",
     "output_type": "stream",
     "text": [
      "====> Val set loss (reconstruction error) : 0.5011\n"
     ]
    },
    {
     "name": "stderr",
     "output_type": "stream",
     "text": [
      "100%|██████████| 1875/1875 [00:08<00:00, 222.19it/s]\n"
     ]
    },
    {
     "name": "stdout",
     "output_type": "stream",
     "text": [
      "====> Epoch: 11 Average loss: 0.5018\n"
     ]
    },
    {
     "name": "stderr",
     "output_type": "stream",
     "text": [
      "100%|██████████| 313/313 [00:04<00:00, 76.85it/s] \n"
     ]
    },
    {
     "name": "stdout",
     "output_type": "stream",
     "text": [
      "====> Val set loss (reconstruction error) : 0.5011\n"
     ]
    },
    {
     "name": "stderr",
     "output_type": "stream",
     "text": [
      "100%|██████████| 1875/1875 [00:07<00:00, 236.99it/s]\n"
     ]
    },
    {
     "name": "stdout",
     "output_type": "stream",
     "text": [
      "====> Epoch: 12 Average loss: 0.5017\n"
     ]
    },
    {
     "name": "stderr",
     "output_type": "stream",
     "text": [
      "100%|██████████| 313/313 [00:04<00:00, 69.42it/s] \n"
     ]
    },
    {
     "name": "stdout",
     "output_type": "stream",
     "text": [
      "====> Val set loss (reconstruction error) : 0.5010\n"
     ]
    },
    {
     "name": "stderr",
     "output_type": "stream",
     "text": [
      "100%|██████████| 1875/1875 [00:08<00:00, 229.78it/s]\n"
     ]
    },
    {
     "name": "stdout",
     "output_type": "stream",
     "text": [
      "====> Epoch: 13 Average loss: 0.5017\n"
     ]
    },
    {
     "name": "stderr",
     "output_type": "stream",
     "text": [
      "100%|██████████| 313/313 [00:03<00:00, 79.17it/s] \n"
     ]
    },
    {
     "name": "stdout",
     "output_type": "stream",
     "text": [
      "====> Val set loss (reconstruction error) : 0.5009\n"
     ]
    },
    {
     "name": "stderr",
     "output_type": "stream",
     "text": [
      "100%|██████████| 1875/1875 [00:07<00:00, 239.31it/s]\n"
     ]
    },
    {
     "name": "stdout",
     "output_type": "stream",
     "text": [
      "====> Epoch: 14 Average loss: 0.5016\n"
     ]
    },
    {
     "name": "stderr",
     "output_type": "stream",
     "text": [
      "100%|██████████| 313/313 [00:03<00:00, 80.85it/s] \n"
     ]
    },
    {
     "name": "stdout",
     "output_type": "stream",
     "text": [
      "====> Val set loss (reconstruction error) : 0.5010\n"
     ]
    },
    {
     "name": "stderr",
     "output_type": "stream",
     "text": [
      "100%|██████████| 1875/1875 [00:08<00:00, 231.82it/s]\n"
     ]
    },
    {
     "name": "stdout",
     "output_type": "stream",
     "text": [
      "====> Epoch: 15 Average loss: 0.5016\n"
     ]
    },
    {
     "name": "stderr",
     "output_type": "stream",
     "text": [
      "100%|██████████| 313/313 [00:03<00:00, 78.66it/s] "
     ]
    },
    {
     "name": "stdout",
     "output_type": "stream",
     "text": [
      "====> Val set loss (reconstruction error) : 0.5009\n"
     ]
    },
    {
     "name": "stderr",
     "output_type": "stream",
     "text": [
      "\n"
     ]
    }
   ],
   "source": [
    "from autoencoder_starter import Autoencoder_Trainer\n",
    "\n",
    "LEARNING_RATE = 0.0005\n",
    "EPOCH_NUMBER= 15 # the number of epochs and learning rate can be tuned.\n",
    "\n",
    "autoencoder = Autoencoder(dim_latent_representation=30)\n",
    "trainer = Autoencoder_Trainer(autoencoder_model=autoencoder,learning_rate=LEARNING_RATE,path_prefix=path_prefix)\n",
    "\n",
    "try:\n",
    "    for epoch in range(1, EPOCH_NUMBER + 1):\n",
    "        trainer.train(epoch)\n",
    "        trainer.validate(epoch)\n",
    "except (KeyboardInterrupt, SystemExit):\n",
    "        print(\"Manual Interruption\")"
   ]
  },
  {
   "cell_type": "markdown",
   "metadata": {
    "id": "1xZdZKnc0j1P"
   },
   "source": [
    "If in the above cell, you find that the download of the dataset is unsuccessful because the server is down, you can also download the data from Canvas and put the data in the same directory of this notebook and `autoencoder_starter.py`. If you are running this notebook on Google Colab, you can create a directory called `CMPT_726Fall2021_A3` in your Google Drive and put the data directory you downloaded from Canvas inside. Then if you haven't mounted your Google Drive earlier using the block of code above, mount Google Drive by executing the following block of code."
   ]
  },
  {
   "cell_type": "code",
   "execution_count": null,
   "metadata": {
    "id": "-dCCuz2mbAo0"
   },
   "outputs": [],
   "source": [
    "from google.colab import drive\n",
    "drive.mount('/content/gdrive')\n",
    "path_prefix = \"/content/gdrive/MyDrive/CMPT_726Fall2021_A3\""
   ]
  },
  {
   "cell_type": "markdown",
   "metadata": {
    "id": "X1M7mOuREg1z"
   },
   "source": [
    "## Visualizing 2D Bottleneck Feature Representations\n",
    "\n",
    "We can visualize the 2D bottleneck representations of data points and their ground truth class labels with a scatter plot.\n",
    "\n",
    "The `scatter_plot` function takes the following arguments:\n",
    "* latent_presentations - (N, dimension_latent_representation) numpy array\n",
    "* labels - (N, ) numpy array: the labels of the ground truth classes"
   ]
  },
  {
   "cell_type": "code",
   "execution_count": null,
   "metadata": {
    "ExecuteTime": {
     "start_time": "2021-03-11T21:12:57.723Z"
    },
    "id": "0itXRhM8D2MB"
   },
   "outputs": [],
   "source": [
    "with torch.no_grad():\n",
    "    model = trainer.model\n",
    "    model.eval()\n",
    "    z=[];label=[]\n",
    "    for x,y in trainer.val_loader:\n",
    "        x = x.view(-1, 28 * 28)\n",
    "        z_ = model.encoder(x.to(trainer.device))\n",
    "        z += z_.cpu().tolist()\n",
    "        label += y.cpu().tolist()\n",
    "    z = np.asarray(z)\n",
    "    label = np.asarray(label)\n",
    "\n",
    "from autoencoder_starter import scatter_plot\n",
    "scatter_plot(latent_representations=z,labels=label)"
   ]
  },
  {
   "cell_type": "markdown",
   "metadata": {
    "id": "iMzjgvmWujFp"
   },
   "source": [
    "## Generating Images by Sampling Bottleneck Features\n",
    "\n",
    "So here we can generate new images by sampling bottleneck features, and use the decoder to generate images. \n",
    "\n",
    "The code below provides an example of how to generate images by sampling bottleneck features. \n",
    "\n",
    "The `display_images_in_a_row` takes the following arguments:\n",
    "* images: (N,28,28): N images of 28*28 as a numpy array\n",
    "* file_path: file path name for where to store the figure\n",
    "* display: display the image or not\n"
   ]
  },
  {
   "cell_type": "code",
   "execution_count": null,
   "metadata": {
    "ExecuteTime": {
     "start_time": "2021-03-11T21:11:45.425Z"
    },
    "id": "ZPGfWcqusvrG"
   },
   "outputs": [],
   "source": [
    "with torch.no_grad():\n",
    "    samples = torch.randn(7, 2).to(trainer.device)\n",
    "    samples = trainer.model.decoder(samples).cpu()\n",
    "\n",
    "images = samples\n",
    "\n",
    "from autoencoder_starter import display_images_in_a_row\n",
    "display_images_in_a_row(images)"
   ]
  },
  {
   "cell_type": "markdown",
   "metadata": {
    "id": "vkQ7IZXNEexN"
   },
   "source": [
    "## Reconstructing Images\n",
    "\n",
    "We can first retrieve the validation set and then pick 64 images (the first 64 images, though you can do it randomly).\n",
    "\n",
    "We use the autoencoder to reconstruct the images and visualize them below."
   ]
  },
  {
   "cell_type": "code",
   "execution_count": 7,
   "metadata": {
    "ExecuteTime": {
     "start_time": "2021-03-11T21:11:45.429Z"
    },
    "id": "6YmbPNYcSStS"
   },
   "outputs": [
    {
     "name": "stdout",
     "output_type": "stream",
     "text": [
      "Original images\n"
     ]
    },
    {
     "data": {
      "image/png": "[encoded data removed]",
      "text/plain": [
       "<Figure size 432x288 with 1 Axes>"
      ]
     },
     "metadata": {
      "needs_background": "light"
     },
     "output_type": "display_data"
    }
   ],
   "source": [
    "images = trainer.get_val_set() # get the entire validation set\n",
    "total_number = 64\n",
    "images = images[:total_number]\n",
    "\n",
    "from autoencoder_starter import display_images_in_a_row\n",
    "print(\"Original images\")\n",
    "display_images_in_a_row(images.cpu())"
   ]
  },
  {
   "cell_type": "code",
   "execution_count": 8,
   "metadata": {
    "id": "J_0iajk9GQL7"
   },
   "outputs": [
    {
     "name": "stdout",
     "output_type": "stream",
     "text": [
      "Reconstructed images\n"
     ]
    },
    {
     "data": {
      "image/png": "[encoded data removed]",
      "text/plain": [
       "<Figure size 432x288 with 1 Axes>"
      ]
     },
     "metadata": {
      "needs_background": "light"
     },
     "output_type": "display_data"
    }
   ],
   "source": [
    "with torch.no_grad():\n",
    "    images = images.view(-1, 28 * 28)\n",
    "    images = images.to(trainer.device)\n",
    "    reconstructed = trainer.model(images).cpu()\n",
    "    reconstructed = reconstructed.view(-1, 28, 28)\n",
    "print(\"Reconstructed images\")\n",
    "display_images_in_a_row(reconstructed)"
   ]
  }
 ],
 "metadata": {
  "colab": {
   "collapsed_sections": [],
   "name": "Autoencoder_sample.ipynb",
   "provenance": []
  },
  "kernelspec": {
   "display_name": "Python 3 (ipykernel)",
   "language": "python",
   "name": "python3"
  },
  "language_info": {
   "codemirror_mode": {
    "name": "ipython",
    "version": 3
   },
   "file_extension": ".py",
   "mimetype": "text/x-python",
   "name": "python",
   "nbconvert_exporter": "python",
   "pygments_lexer": "ipython3",
   "version": "3.8.11"
  },
  "nteract": {
   "version": "0.28.0"
  }
 },
 "nbformat": 4,
 "nbformat_minor": 0
}
